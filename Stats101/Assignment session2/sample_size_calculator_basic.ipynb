{
 "cells": [
  {
   "cell_type": "code",
   "execution_count": 1,
   "id": "2c5f676e",
   "metadata": {},
   "outputs": [
    {
     "name": "stderr",
     "output_type": "stream",
     "text": [
      "/opt/anaconda3/lib/python3.9/site-packages/scipy/__init__.py:146: UserWarning: A NumPy version >=1.16.5 and <1.23.0 is required for this version of SciPy (detected version 1.24.2\n",
      "  warnings.warn(f\"A NumPy version >={np_minversion} and <{np_maxversion}\"\n"
     ]
    }
   ],
   "source": [
    "import numpy as np\n",
    "import pandas as pd\n",
    "import scipy.stats as stats\n",
    "import statsmodels.stats.api as sms\n",
    "import matplotlib as mpl\n",
    "import matplotlib.pyplot as plt\n",
    "import seaborn as sns\n",
    "from math import ceil\n",
    "\n",
    "%matplotlib inline"
   ]
  },
  {
   "cell_type": "code",
   "execution_count": 2,
   "id": "3ba81b73",
   "metadata": {},
   "outputs": [],
   "source": [
    "def sample_size_calc_mean(control_mean,std_dev,relative_change,control_size):\n",
    "    \n",
    "    test_mean = control_mean*(1+(relative_change/100))\n",
    "    effective_size = (test_mean - control_mean)/std_dev\n",
    "    \n",
    "    k=0\n",
    "    \n",
    "    l = [control_size,100-control_size]\n",
    "    \n",
    "    for i in l:\n",
    "\n",
    "        required_n = sms.NormalIndPower().solve_power(effective_size, \n",
    "        power=0.8, \n",
    "        alpha=0.05, \n",
    "        ratio=i/(100-i),\n",
    "        alternative='larger')                                                 \n",
    "\n",
    "        required_n = ceil(required_n)                                                 \n",
    "\n",
    "        if k%2==0:\n",
    "            output_mean.loc[len(output_mean.index)] = ['test',100-i,required_n]\n",
    "        else:\n",
    "            output_mean.loc[len(output_mean.index)] =['control',100-i,required_n] \n",
    "\n",
    "        k+=1"
   ]
  },
  {
   "cell_type": "code",
   "execution_count": 3,
   "id": "b037aa88",
   "metadata": {},
   "outputs": [
    {
     "data": {
      "text/html": [
       "<div>\n",
       "<style scoped>\n",
       "    .dataframe tbody tr th:only-of-type {\n",
       "        vertical-align: middle;\n",
       "    }\n",
       "\n",
       "    .dataframe tbody tr th {\n",
       "        vertical-align: top;\n",
       "    }\n",
       "\n",
       "    .dataframe thead th {\n",
       "        text-align: right;\n",
       "    }\n",
       "</style>\n",
       "<table border=\"1\" class=\"dataframe\">\n",
       "  <thead>\n",
       "    <tr style=\"text-align: right;\">\n",
       "      <th></th>\n",
       "      <th>Group</th>\n",
       "      <th>size</th>\n",
       "      <th>Volume</th>\n",
       "    </tr>\n",
       "  </thead>\n",
       "  <tbody>\n",
       "    <tr>\n",
       "      <th>0</th>\n",
       "      <td>test</td>\n",
       "      <td>98</td>\n",
       "      <td>543473</td>\n",
       "    </tr>\n",
       "    <tr>\n",
       "      <th>1</th>\n",
       "      <td>control</td>\n",
       "      <td>2</td>\n",
       "      <td>11092</td>\n",
       "    </tr>\n",
       "  </tbody>\n",
       "</table>\n",
       "</div>"
      ],
      "text/plain": [
       "     Group  size  Volume\n",
       "0     test    98  543473\n",
       "1  control     2   11092"
      ]
     },
     "execution_count": 3,
     "metadata": {},
     "output_type": "execute_result"
    }
   ],
   "source": [
    "output_mean = pd.DataFrame(columns = [\"Group\",\"size\",\"Volume\"])\n",
    "\n",
    "control_mean = 5.39\n",
    "std_dev = 2.26\n",
    "relative_change = 1\n",
    "control_size = 2      #control percentage \n",
    "sample_size_calc_mean(control_mean,std_dev,relative_change,control_size)\n",
    "\n",
    "output_mean"
   ]
  },
  {
   "cell_type": "code",
   "execution_count": 4,
   "id": "0a3a6ed7",
   "metadata": {},
   "outputs": [],
   "source": [
    "def sample_size_calc_prop(control_resp_rate,relative_change,control_size):\n",
    "    \n",
    "    test_resp_rate = control_resp_rate*(1+(relative_change/100))\n",
    "    effect_size = sms.proportion_effectsize(control_resp_rate,test_resp_rate)  \n",
    "    \n",
    "    k=0\n",
    "    \n",
    "    l = [control_size,100-control_size]\n",
    "    \n",
    "    for i in l:\n",
    "\n",
    "        required_n = sms.NormalIndPower().solve_power(-effect_size, \n",
    "        power=0.8, \n",
    "        alpha=0.05, \n",
    "        ratio=i/(100-i),\n",
    "        alternative='larger')                                                 \n",
    "\n",
    "        required_n = ceil(required_n)                                                 \n",
    "\n",
    "        if k%2==0:\n",
    "            output_prop.loc[len(output_prop.index)] = ['test',100-i,required_n]\n",
    "        else:\n",
    "            output_prop.loc[len(output_prop.index)] =['control',100-i,required_n] \n",
    "\n",
    "        k+=1"
   ]
  },
  {
   "cell_type": "code",
   "execution_count": 5,
   "id": "38d19d8c",
   "metadata": {},
   "outputs": [
    {
     "data": {
      "text/html": [
       "<div>\n",
       "<style scoped>\n",
       "    .dataframe tbody tr th:only-of-type {\n",
       "        vertical-align: middle;\n",
       "    }\n",
       "\n",
       "    .dataframe tbody tr th {\n",
       "        vertical-align: top;\n",
       "    }\n",
       "\n",
       "    .dataframe thead th {\n",
       "        text-align: right;\n",
       "    }\n",
       "</style>\n",
       "<table border=\"1\" class=\"dataframe\">\n",
       "  <thead>\n",
       "    <tr style=\"text-align: right;\">\n",
       "      <th></th>\n",
       "      <th>Group</th>\n",
       "      <th>size</th>\n",
       "      <th>Volume</th>\n",
       "    </tr>\n",
       "  </thead>\n",
       "  <tbody>\n",
       "    <tr>\n",
       "      <th>0</th>\n",
       "      <td>test</td>\n",
       "      <td>93</td>\n",
       "      <td>8325306</td>\n",
       "    </tr>\n",
       "    <tr>\n",
       "      <th>1</th>\n",
       "      <td>control</td>\n",
       "      <td>7</td>\n",
       "      <td>626636</td>\n",
       "    </tr>\n",
       "  </tbody>\n",
       "</table>\n",
       "</div>"
      ],
      "text/plain": [
       "     Group  size   Volume\n",
       "0     test    93  8325306\n",
       "1  control     7   626636"
      ]
     },
     "execution_count": 5,
     "metadata": {},
     "output_type": "execute_result"
    }
   ],
   "source": [
    "output_prop = pd.DataFrame(columns = [\"Group\",\"size\",\"Volume\"])\n",
    "\n",
    "control_resp_rate = 0.0963\n",
    "relative_change = 1\n",
    "control_size = 7    \n",
    "sample_size_calc_prop(control_resp_rate,relative_change,control_size)\n",
    "\n",
    "output_prop"
   ]
  }
 ],
 "metadata": {
  "kernelspec": {
   "display_name": "Python 3 (ipykernel)",
   "language": "python",
   "name": "python3"
  },
  "language_info": {
   "codemirror_mode": {
    "name": "ipython",
    "version": 3
   },
   "file_extension": ".py",
   "mimetype": "text/x-python",
   "name": "python",
   "nbconvert_exporter": "python",
   "pygments_lexer": "ipython3",
   "version": "3.9.13"
  }
 },
 "nbformat": 4,
 "nbformat_minor": 5
}
