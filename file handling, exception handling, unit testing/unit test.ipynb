{
 "cells": [
  {
   "cell_type": "code",
   "execution_count": 6,
   "id": "5949d93b",
   "metadata": {},
   "outputs": [
    {
     "name": "stderr",
     "output_type": "stream",
     "text": [
      "......\n",
      "----------------------------------------------------------------------\n",
      "Ran 6 tests in 0.011s\n",
      "\n",
      "OK\n"
     ]
    },
    {
     "name": "stdout",
     "output_type": "stream",
     "text": [
      "\n",
      "Initial balance before deposit is 5000.0\n",
      "Deposit amount is 4000\n",
      "Current balance is 9000.0\n",
      "Current balance is 5000.0\n",
      "\n",
      "Initial balance before withdrawal is 5000.0\n",
      "Withdrawal amount is 9000\n",
      "Balance Low\n",
      "\n",
      "Initial balance before withdrawal is 5000.0\n",
      "Withdrawal amount is 3000\n",
      "Current balance is 2000.0\n",
      "\n",
      "Initial balance before deposit is 1500\n",
      "Deposit amount is 500\n",
      "Current balance is 2000\n",
      "\n",
      "Initial balance before withdrawal is 2000\n",
      "Withdrawal amount is 200\n",
      "Current balance is 1800\n",
      "\n",
      "Initial balance before withdrawal is 0.0\n",
      "Withdrawal amount is 6000\n",
      "Balance Low\n"
     ]
    },
    {
     "ename": "ValueError",
     "evalue": "Balance is Low!!",
     "output_type": "error",
     "traceback": [
      "\u001b[1;31m---------------------------------------------------------------------------\u001b[0m",
      "\u001b[1;31mValueError\u001b[0m                                Traceback (most recent call last)",
      "Cell \u001b[1;32mIn[6], line 53\u001b[0m\n\u001b[0;32m     51\u001b[0m obj1\u001b[38;5;241m.\u001b[39mwithdraw_amt(\u001b[38;5;241m200\u001b[39m)\n\u001b[0;32m     52\u001b[0m obj2\u001b[38;5;241m=\u001b[39mBankAccount(\u001b[38;5;241m6787931\u001b[39m,\u001b[38;5;124m\"\u001b[39m\u001b[38;5;124mPerson\u001b[39m\u001b[38;5;124m\"\u001b[39m)\n\u001b[1;32m---> 53\u001b[0m \u001b[43mobj2\u001b[49m\u001b[38;5;241;43m.\u001b[39;49m\u001b[43mwithdraw_amt\u001b[49m\u001b[43m(\u001b[49m\u001b[38;5;241;43m6000\u001b[39;49m\u001b[43m)\u001b[49m\n",
      "Cell \u001b[1;32mIn[6], line 21\u001b[0m, in \u001b[0;36mBankAccount.withdraw_amt\u001b[1;34m(self, amt)\u001b[0m\n\u001b[0;32m     19\u001b[0m \u001b[38;5;28;01mif\u001b[39;00m amt\u001b[38;5;241m>\u001b[39m\u001b[38;5;28mself\u001b[39m\u001b[38;5;241m.\u001b[39mbalance:\n\u001b[0;32m     20\u001b[0m     \u001b[38;5;28mprint\u001b[39m(\u001b[38;5;124m\"\u001b[39m\u001b[38;5;124mBalance Low\u001b[39m\u001b[38;5;124m\"\u001b[39m)\n\u001b[1;32m---> 21\u001b[0m     \u001b[38;5;28;01mraise\u001b[39;00m \u001b[38;5;167;01mValueError\u001b[39;00m(\u001b[38;5;124m\"\u001b[39m\u001b[38;5;124mBalance is Low!!\u001b[39m\u001b[38;5;124m\"\u001b[39m)\n\u001b[0;32m     22\u001b[0m \u001b[38;5;28mself\u001b[39m\u001b[38;5;241m.\u001b[39mbalance\u001b[38;5;241m-\u001b[39m\u001b[38;5;241m=\u001b[39mamt\n\u001b[0;32m     23\u001b[0m \u001b[38;5;28mself\u001b[39m\u001b[38;5;241m.\u001b[39mdisplay_balance()\n",
      "\u001b[1;31mValueError\u001b[0m: Balance is Low!!"
     ]
    }
   ],
   "source": [
    "class BankAccount:\n",
    "    def __init__(self,account_number:int,name:str,balance:float=0.0):\n",
    "        self.account_number=account_number\n",
    "        self.name=name\n",
    "        self.balance=balance\n",
    "    def check_balance(self):\n",
    "        return self.balance\n",
    "    def display_balance(self):\n",
    "        print(\"Current balance is {}\".format(self.balance))\n",
    "        return \"Current balance is {}\".format(self.balance)\n",
    "    def deposit_amt(self,amt):\n",
    "        print(\"\\nInitial balance before deposit is {}\".format(self.balance))\n",
    "        print(\"Deposit amount is {}\".format(amt))\n",
    "        self.balance+=amt\n",
    "        self.display_balance()\n",
    "    def withdraw_amt(self,amt):\n",
    "        print(\"\\nInitial balance before withdrawal is {}\".format(self.balance))\n",
    "        print(\"Withdrawal amount is {}\".format(amt))\n",
    "        if amt>self.balance:\n",
    "            print(\"Balance Low\")\n",
    "            raise ValueError(\"Balance is Low!!\")\n",
    "        self.balance-=amt\n",
    "        self.display_balance()\n",
    "import unittest\n",
    "class TestBankAccount(unittest.TestCase):\n",
    "    def setUp(self):\n",
    "        self.acc1=BankAccount(12238,\"Prsn1\",5000.0)\n",
    "        self.acc2=BankAccount(73487,\"Prsn2\")\n",
    "    def test_check_balance(self):\n",
    "        self.assertEqual(self.acc1.check_balance(),5000.0)\n",
    "    def test_check_default_balance(self):\n",
    "        self.assertEqual(self.acc2.check_balance(),0.0)\n",
    "    def test_withdraw_amt(self):\n",
    "        self.acc1.withdraw_amt(3000)\n",
    "        self.assertEqual(self.acc1.check_balance(),2000.0)\n",
    "    def test_low_balance(self):\n",
    "        with self.assertRaises(ValueError):\n",
    "            self.acc1.withdraw_amt(9000)\n",
    "    def test_deposit_amt(self):\n",
    "        self.acc1.deposit_amt(4000)\n",
    "        self.assertEqual(self.acc1.check_balance(),9000.0)\n",
    "    def test_check_balance(self):\n",
    "        self.assertEqual(self.acc1.check_balance(),5000.0)\n",
    "    def test_display_balance(self):\n",
    "        self.assertEqual(self.acc1.display_balance(),\"Current balance is 5000.0\")\n",
    "        \n",
    "if __name__=='__main__':\n",
    "    unittest.main(argv=['first-arg-is-ignored'], exit=False) \n",
    "obj1=BankAccount(6787931,\"Person\",1500)\n",
    "obj1.deposit_amt(500)\n",
    "obj1.withdraw_amt(200)\n",
    "obj2=BankAccount(6787931,\"Person\")\n",
    "obj2.withdraw_amt(6000)"
   ]
  }
 ],
 "metadata": {
  "kernelspec": {
   "display_name": "Python 3 (ipykernel)",
   "language": "python",
   "name": "python3"
  },
  "language_info": {
   "codemirror_mode": {
    "name": "ipython",
    "version": 3
   },
   "file_extension": ".py",
   "mimetype": "text/x-python",
   "name": "python",
   "nbconvert_exporter": "python",
   "pygments_lexer": "ipython3",
   "version": "3.10.9"
  }
 },
 "nbformat": 4,
 "nbformat_minor": 5
}
